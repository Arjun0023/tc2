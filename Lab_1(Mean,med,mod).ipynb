{
 "cells": [
  {
   "cell_type": "code",
   "execution_count": 2,
   "metadata": {},
   "outputs": [],
   "source": [
    "import csv\n",
    "import math\n",
    "from collections import Counter\n"
   ]
  },
  {
   "cell_type": "code",
   "execution_count": 3,
   "metadata": {},
   "outputs": [],
   "source": [
    "column_index = 3\n",
    "total_sum = 0\n",
    "count = 0"
   ]
  },
  {
   "cell_type": "code",
   "execution_count": 4,
   "metadata": {},
   "outputs": [],
   "source": [
    "with open(\"price_data (1).csv\", \"r\") as csv_file:\n",
    "    csv_reader = csv.reader(csv_file)\n",
    "\n",
    "    values = []\n",
    "    next(csv_reader)\n",
    "\n",
    "    for row in csv_reader:\n",
    "        # Assuming the values you want to calculate the statistics for are in the specified column\n",
    "        value = float(row[column_index])  # Convert to float if necessary\n",
    "        total_sum += value\n",
    "        count += 1\n",
    "        values.append(value)"
   ]
  },
  {
   "cell_type": "code",
   "execution_count": 5,
   "metadata": {},
   "outputs": [
    {
     "name": "stdout",
     "output_type": "stream",
     "text": [
      "Mean of column 3: 0.054630396898732635\n"
     ]
    }
   ],
   "source": [
    "# Calculate the mean\n",
    "mean = total_sum / count\n",
    "print(f\"Mean of column {column_index}:\", mean)\n"
   ]
  },
  {
   "cell_type": "code",
   "execution_count": 6,
   "metadata": {},
   "outputs": [
    {
     "name": "stdout",
     "output_type": "stream",
     "text": [
      "Median of column 3: 0.085483\n"
     ]
    }
   ],
   "source": [
    "# Calculate the median\n",
    "values.sort()\n",
    "num_values = len(values)\n",
    "if num_values % 2 == 0:\n",
    "    median = (values[num_values // 2 - 1] + values[num_values // 2]) / 2\n",
    "else:\n",
    "    median = values[num_values // 2]\n",
    "print(f\"Median of column {column_index}: {median}\")\n"
   ]
  },
  {
   "cell_type": "code",
   "execution_count": 7,
   "metadata": {},
   "outputs": [
    {
     "name": "stdout",
     "output_type": "stream",
     "text": [
      "Mode of column 3: 0.0\n"
     ]
    }
   ],
   "source": [
    "# Calculate the mode\n",
    "if values:\n",
    "    mode_counter = Counter(values)\n",
    "    mode = mode_counter.most_common(1)[0][0]\n",
    "    print(f\"Mode of column {column_index}: {mode}\")"
   ]
  },
  {
   "cell_type": "code",
   "execution_count": 8,
   "metadata": {},
   "outputs": [],
   "source": [
    "# Calculate the variance and standard deviation\n",
    "sq_diff = sum((value - mean) ** 2 for value in values)\n",
    "variance = sq_diff / count\n",
    "std_deviation = math.sqrt(variance)\n"
   ]
  },
  {
   "cell_type": "code",
   "execution_count": 9,
   "metadata": {},
   "outputs": [
    {
     "name": "stdout",
     "output_type": "stream",
     "text": [
      "Variance of column 3: 0.00249241902639198\n",
      "Standard Deviation of column 3: 0.04992413270545598\n"
     ]
    }
   ],
   "source": [
    "print(f\"Variance of column {column_index}: {variance}\")\n",
    "print(f\"Standard Deviation of column {column_index}: {std_deviation}\")"
   ]
  }
 ],
 "metadata": {
  "kernelspec": {
   "display_name": "Python 3",
   "language": "python",
   "name": "python3"
  },
  "language_info": {
   "codemirror_mode": {
    "name": "ipython",
    "version": 3
   },
   "file_extension": ".py",
   "mimetype": "text/x-python",
   "name": "python",
   "nbconvert_exporter": "python",
   "pygments_lexer": "ipython3",
   "version": "3.9.5"
  }
 },
 "nbformat": 4,
 "nbformat_minor": 2
}
